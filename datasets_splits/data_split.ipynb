{
 "cells": [
  {
   "cell_type": "code",
   "execution_count": 1,
   "metadata": {},
   "outputs": [],
   "source": [
    "import pandas as pd\n",
    "import json"
   ]
  },
  {
   "cell_type": "code",
   "execution_count": 2,
   "metadata": {},
   "outputs": [],
   "source": [
    "def create_json_split(dataset_name):\n",
    "    train_file = pd.read_csv(f\"{dataset_name}/{dataset_name}_train.csv\", header=None, names=[\"img\", \"label\"])\n",
    "    test_file = pd.read_csv(f\"{dataset_name}/{dataset_name}_test.csv\", header=None, names=[\"img\", \"label\"])\n",
    "    val_file = pd.read_csv(f\"{dataset_name}/{dataset_name}_val.csv\", header=None, names=[\"img\", \"label\"])\n",
    "    classes = sorted(list(train_file['label'].unique()))\n",
    "    train_file['label_int'] = train_file['label'].apply(lambda x: classes.index(x))\n",
    "    test_file['label_int'] = test_file['label'].apply(lambda x: classes.index(x))\n",
    "    val_file['label_int'] = val_file['label'].apply(lambda x: classes.index(x))\n",
    "\n",
    "    # Convert each DataFrame to a list of lists\n",
    "    data1 = train_file[['img', 'label_int', 'label']].values.tolist()\n",
    "    data2 = test_file[['img', 'label_int', 'label']].values.tolist()\n",
    "    data3 = val_file[['img', 'label_int', 'label']].values.tolist()\n",
    "\n",
    "    json_data = {\n",
    "        \"train\": data1,\n",
    "        \"test\": data2,\n",
    "        \"val\": data3\n",
    "    }\n",
    "    \n",
    "\n",
    "    # Write JSON data to file with an indent of 4 spaces\n",
    "    with open(f'{dataset_name}_split.json', \"w\") as json_file:\n",
    "        json.dump(json_data, json_file, indent=4)\n",
    "\n",
    "    print(f\"JSON data saved\")\n",
    "\n"
   ]
  },
  {
   "cell_type": "code",
   "execution_count": 3,
   "metadata": {},
   "outputs": [
    {
     "name": "stdout",
     "output_type": "stream",
     "text": [
      "JSON data saved\n"
     ]
    }
   ],
   "source": [
    "dataset='mlrsnet'\n",
    "create_json_split(dataset)"
   ]
  },
  {
   "cell_type": "code",
   "execution_count": null,
   "metadata": {},
   "outputs": [],
   "source": []
  }
 ],
 "metadata": {
  "kernelspec": {
   "display_name": "rsclip",
   "language": "python",
   "name": "python3"
  },
  "language_info": {
   "codemirror_mode": {
    "name": "ipython",
    "version": 3
   },
   "file_extension": ".py",
   "mimetype": "text/x-python",
   "name": "python",
   "nbconvert_exporter": "python",
   "pygments_lexer": "ipython3",
   "version": "3.9.18"
  }
 },
 "nbformat": 4,
 "nbformat_minor": 2
}
