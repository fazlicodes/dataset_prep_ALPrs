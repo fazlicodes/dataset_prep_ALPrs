{
 "cells": [
  {
   "cell_type": "code",
   "execution_count": 3,
   "metadata": {},
   "outputs": [],
   "source": [
    "import pandas as pd"
   ]
  },
  {
   "cell_type": "code",
   "execution_count": 11,
   "metadata": {},
   "outputs": [],
   "source": [
    "df_val = pd.read_csv(\"/l/users/sanoojan.baliah/Felix/dataset_prep/datasets_splits/mlrsnet/mlrsnet_val.csv\", sep=\"\\t\")\n",
    "df_val = df_val[['image']].values.tolist()\n",
    "df_test = pd.read_csv(\"/l/users/sanoojan.baliah/Felix/dataset_prep/datasets_splits/mlrsnet/mlrsnet_test.csv\", sep=\"\\t\")\n",
    "df_test = df_test[['image']].values.tolist()\n",
    "df_train = pd.read_csv(\"/l/users/sanoojan.baliah/Felix/dataset_prep/datasets_splits/mlrsnet/mlrsnet_train.csv\", sep=\"\\t\")\n",
    "df_train = df_train[['image']].values.tolist()"
   ]
  },
  {
   "cell_type": "code",
   "execution_count": 12,
   "metadata": {},
   "outputs": [],
   "source": [
    "#create new csv file and open in write mode\n",
    "f = open(\"mlrsnet_val.csv\", \"w\")\n",
    "\n",
    "for i in range(len(df_val)):\n",
    "    img_name = df_val[i][0]\n",
    "    img_class = img_name[:-6]\n",
    "    img_loc = img_class+\"/\"+img_name\n",
    "\n",
    "    f.write(img_loc + \".jpg,\" + img_class+ \"\\n\")\n",
    "\n",
    "f.close()"
   ]
  },
  {
   "cell_type": "code",
   "execution_count": 13,
   "metadata": {},
   "outputs": [],
   "source": [
    "#create new csv file and open in write mode\n",
    "f = open(\"mlrsnet_test.csv\", \"w\")\n",
    "\n",
    "for i in range(len(df_test)):\n",
    "    img_name = df_test[i][0]\n",
    "    img_class = img_name[:-6]\n",
    "    img_loc = img_class+\"/\"+img_name\n",
    "\n",
    "    f.write(img_loc + \".jpg,\" + img_class+ \"\\n\")\n",
    "\n",
    "f.close()"
   ]
  },
  {
   "cell_type": "code",
   "execution_count": 14,
   "metadata": {},
   "outputs": [],
   "source": [
    "#create new csv file and open in write mode\n",
    "f = open(\"mlrsnet_train.csv\", \"w\")\n",
    "\n",
    "for i in range(len(df_train)):\n",
    "    img_name = df_train[i][0]\n",
    "    img_class = img_name[:-6]\n",
    "    img_loc = img_class+\"/\"+img_name\n",
    "\n",
    "    f.write(img_loc + \".jpg,\" + img_class+ \"\\n\")\n",
    "\n",
    "f.close()"
   ]
  },
  {
   "cell_type": "code",
   "execution_count": null,
   "metadata": {},
   "outputs": [],
   "source": []
  },
  {
   "cell_type": "code",
   "execution_count": null,
   "metadata": {},
   "outputs": [],
   "source": []
  }
 ],
 "metadata": {
  "kernelspec": {
   "display_name": "lafter",
   "language": "python",
   "name": "python3"
  },
  "language_info": {
   "codemirror_mode": {
    "name": "ipython",
    "version": 3
   },
   "file_extension": ".py",
   "mimetype": "text/x-python",
   "name": "python",
   "nbconvert_exporter": "python",
   "pygments_lexer": "ipython3",
   "version": "3.9.18"
  }
 },
 "nbformat": 4,
 "nbformat_minor": 2
}
