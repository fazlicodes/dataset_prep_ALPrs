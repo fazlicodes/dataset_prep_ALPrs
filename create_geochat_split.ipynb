{
 "cells": [
  {
   "cell_type": "code",
   "execution_count": 22,
   "metadata": {},
   "outputs": [
    {
     "name": "stdout",
     "output_type": "stream",
     "text": [
      "['swimming_pool', 'transformer_station', 'wastewater_treatment_plant', 'freeway', 'cemetery', 'harbor', 'closed_road', 'basketball_court', 'river', 'football_field', 'oil_gas_field', 'forest', 'runway_marking', 'tennis_court', 'chaparral', 'sparse_residential', 'overpass', 'golf_course', 'mobile_home_park', 'beach', 'ferry_terminal', 'storage_tank', 'nursing_home', 'coastal_mansion', 'baseball_field', 'crosswalk', 'solar_panel', 'railway', 'shipping_yard', 'airplane', 'parking_space', 'christmas_tree_farm', 'intersection', 'runway', 'oil_well', 'parking_lot', 'bridge', 'dense_residential']\n"
     ]
    }
   ],
   "source": [
    "import json\n",
    "import os\n",
    "\n",
    "# Read the JSON file\n",
    "with open('/l/users/sanoojan.baliah/Felix/RS_zero_shot/data/patternnet/Patternnet_dataset_new_split.json', 'r') as file:\n",
    "    data = json.load(file)\n",
    "\n",
    "\n",
    "\n",
    "def get_subfolder_names(root_folder):\n",
    "    subfolder_names = []\n",
    "    # Walk through the directory tree\n",
    "    for dirpath, dirnames, filenames in os.walk(root_folder):\n",
    "        # Add the folder names to the list\n",
    "        for dirname in dirnames:\n",
    "            subfolder_names.append(os.path.basename(dirname))\n",
    "    return subfolder_names\n",
    "\n",
    "# Path to the root folder\n",
    "root_folder = '/l/users/sanoojan.baliah/Felix/RS_zero_shot/data/patternnet/PatternNet/images'\n",
    "\n",
    "# Get subfolders\n",
    "classes = get_subfolder_names(root_folder)\n",
    "\n",
    "# Print or use the list as required\n",
    "print(classes)\n",
    "\n",
    "# Process each entry and write to the text file\n",
    "with open('patternnet.txt', 'w') as outfile:\n",
    "    for entry in data['val']:\n",
    "        image_path, label_index, ground_truth = entry\n",
    "        question_id = image_path\n",
    "        image = image_path\n",
    "        class_code = label_index\n",
    "\n",
    "        # Construct the text format\n",
    "        text = f'Classify the given image in one of the following classes. Classes: {\", \".join(classes)}. \\nAnswer in one word or a short phrase.'\n",
    "\n",
    "        # Write to the output file\n",
    "        outfile.write(json.dumps({\n",
    "            \"question_id\": question_id,\n",
    "            \"image\": image,\n",
    "            \"text\": text,\n",
    "            \"ground_truth\": ground_truth\n",
    "        }) + '\\n')\n"
   ]
  },
  {
   "cell_type": "code",
   "execution_count": null,
   "metadata": {},
   "outputs": [],
   "source": []
  }
 ],
 "metadata": {
  "kernelspec": {
   "display_name": "lafter",
   "language": "python",
   "name": "python3"
  },
  "language_info": {
   "codemirror_mode": {
    "name": "ipython",
    "version": 3
   },
   "file_extension": ".py",
   "mimetype": "text/x-python",
   "name": "python",
   "nbconvert_exporter": "python",
   "pygments_lexer": "ipython3",
   "version": "3.9.18"
  }
 },
 "nbformat": 4,
 "nbformat_minor": 2
}
